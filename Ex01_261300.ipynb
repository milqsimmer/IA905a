{
  "cells": [
    {
      "cell_type": "markdown",
      "metadata": {
        "id": "view-in-github",
        "colab_type": "text"
      },
      "source": [
        "<a href=\"https://colab.research.google.com/github/milqsimmer/IA905a/blob/main/Ex01_261300.ipynb\" target=\"_parent\"><img src=\"https://colab.research.google.com/assets/colab-badge.svg\" alt=\"Open In Colab\"/></a>"
      ]
    },
    {
      "cell_type": "markdown",
      "metadata": {
        "id": "hFO3clgVtsiD"
      },
      "source": [
        "Nome: Camila Maria Serra Quadros\n",
        "\n",
        "RA: 261300\n",
        "\n",
        "Curso: Mestrado - Aluno especial\n",
        "\n"
      ]
    },
    {
      "cell_type": "markdown",
      "metadata": {
        "id": "YtINjzumUi4s"
      },
      "source": [
        "# Ex01 - Aprendendo Numpy\n"
      ]
    },
    {
      "cell_type": "code",
      "execution_count": 17,
      "metadata": {
        "id": "6naaiHFUtsiI"
      },
      "outputs": [],
      "source": [
        "# Importando as bibliotecas que serão utilizadas\n",
        "import numpy as np\n",
        "%matplotlib inline\n",
        "import matplotlib.pyplot as plt\n",
        "from PIL import Image"
      ]
    },
    {
      "cell_type": "code",
      "execution_count": 18,
      "metadata": {
        "id": "zg6jlodTtsiJ",
        "colab": {
          "base_uri": "https://localhost:8080/"
        },
        "outputId": "a3a11d89-2899-49d0-bbc9-38f30bd9367a"
      },
      "outputs": [
        {
          "output_type": "stream",
          "name": "stdout",
          "text": [
            "Drive already mounted at /content/gdrive; to attempt to forcibly remount, call drive.mount(\"/content/gdrive\", force_remount=True).\n"
          ]
        }
      ],
      "source": [
        "# Conexão do colab com o drive\n",
        "from google.colab import drive\n",
        "drive.mount('/content/gdrive')"
      ]
    },
    {
      "cell_type": "markdown",
      "metadata": {
        "id": "o-W-I1kiT-8G"
      },
      "source": [
        "## Parte 1 - Exercitando o uso do Numpy"
      ]
    },
    {
      "cell_type": "markdown",
      "metadata": {
        "id": "HFhzTar2Ui4v"
      },
      "source": [
        "### Visualizando arrays em forma de imagem"
      ]
    },
    {
      "cell_type": "code",
      "execution_count": 19,
      "metadata": {
        "colab": {
          "base_uri": "https://localhost:8080/"
        },
        "id": "lyw-0E6yUi4v",
        "outputId": "76a47f4f-e3d7-4f80-d287-413802f95722"
      },
      "outputs": [
        {
          "output_type": "stream",
          "name": "stdout",
          "text": [
            "Imagem constante:\n",
            " [[1. 1. 1. ... 1. 1. 1.]\n",
            " [1. 1. 1. ... 1. 1. 1.]\n",
            " [1. 1. 1. ... 1. 1. 1.]\n",
            " ...\n",
            " [1. 1. 1. ... 1. 1. 1.]\n",
            " [1. 1. 1. ... 1. 1. 1.]\n",
            " [1. 1. 1. ... 1. 1. 1.]]\n",
            "Dimensões da imagem: (100, 120)\n"
          ]
        }
      ],
      "source": [
        "f = np.ones((100,120))\n",
        "print(\"Imagem constante:\\n\",f)\n",
        "print(\"Dimensões da imagem:\",f.shape)"
      ]
    },
    {
      "cell_type": "code",
      "execution_count": 20,
      "metadata": {
        "colab": {
          "base_uri": "https://localhost:8080/",
          "height": 0
        },
        "id": "_c7eUOHlUi4x",
        "outputId": "6ac4f120-dfdf-4c8c-c1af-15439617952d"
      },
      "outputs": [
        {
          "output_type": "execute_result",
          "data": {
            "text/plain": [
              "<matplotlib.colorbar.Colorbar at 0x7f27fc226800>"
            ]
          },
          "metadata": {},
          "execution_count": 20
        },
        {
          "output_type": "display_data",
          "data": {
            "text/plain": [
              "<Figure size 500x400 with 2 Axes>"
            ],
            "image/png": "[encoded data removed]"
          },
          "metadata": {}
        }
      ],
      "source": [
        "plt.figure(figsize=(5, 4))\n",
        "plt.imshow(f,cmap='gray')\n",
        "plt.title('Imagem constante')\n",
        "plt.colorbar()"
      ]
    },
    {
      "cell_type": "markdown",
      "metadata": {
        "id": "_vDIgFwYTXzP"
      },
      "source": [
        "## Parte 2 - Manipulando arrays com Numpy\n",
        "\n"
      ]
    },
    {
      "cell_type": "markdown",
      "metadata": {
        "id": "OtRAq-XPTn07"
      },
      "source": [
        "Nesta seção, serão abordados os métodos empregados nos tutoriais disponíveis em [\"Aprendendo Numpy\"](https://github.com/lrittner/Computacao-Visual/blob/master/tutoriais/02_Aprendendo_Numpy.ipynb).\n",
        "\n",
        "**Note que os arrays (as imagens) NUNCA devem ser \"varridos\" elemento a elemento (pixel a pixel)! Ou seja, ao invés de acessar individualmente cada posição de um array usando *for*, deve-se utilizar o fatiamento (slicing) e as funções de manipulação de array fornecidas pelo Numpy.**"
      ]
    },
    {
      "cell_type": "markdown",
      "metadata": {
        "id": "k_cZ4ps0Z3rT"
      },
      "source": [
        "### Exercício 2.1"
      ]
    },
    {
      "cell_type": "markdown",
      "metadata": {
        "id": "jKpq0f_3Ue83"
      },
      "source": [
        "**a)** Crie um array do numpy, **a**, formado apenas por elementos \"1\", de tipo \"int16\", com 5 linhas e 3 colunas. Printe o array criado;"
      ]
    },
    {
      "cell_type": "code",
      "execution_count": 21,
      "metadata": {
        "id": "vJl90QuiVrVw",
        "colab": {
          "base_uri": "https://localhost:8080/"
        },
        "outputId": "577d4de8-b4b8-4845-d997-182f10cfdafc"
      },
      "outputs": [
        {
          "output_type": "stream",
          "name": "stdout",
          "text": [
            "Array a:\n",
            " [[1 1 1]\n",
            " [1 1 1]\n",
            " [1 1 1]\n",
            " [1 1 1]\n",
            " [1 1 1]]\n",
            "\n",
            "Tipo:  int16\n"
          ]
        }
      ],
      "source": [
        "a = np.ones((5,3), 'int16')\n",
        "a.dtype\n",
        "print(\"Array a:\\n\",a)\n",
        "\n",
        "print(\"\\nTipo: \",a.dtype)"
      ]
    },
    {
      "cell_type": "markdown",
      "metadata": {
        "id": "w7KelNqGVr-F"
      },
      "source": [
        "**b)** Crie um novo array **b** a partir do array **a**. Altere o elemento da 3ª linha e 2ª coluna do array **b** para zero (0), sem que o array **a** seja alterado. Comente a metodologia empregada e printe os arrays **a** e **b**;"
      ]
    },
    {
      "cell_type": "code",
      "execution_count": 22,
      "metadata": {
        "id": "eotdHqZFWG6n",
        "colab": {
          "base_uri": "https://localhost:8080/"
        },
        "outputId": "d1f780bb-100d-41c4-ff2b-f4427ec20197"
      },
      "outputs": [
        {
          "output_type": "stream",
          "name": "stdout",
          "text": [
            "Array a:\n",
            " [[1 1 1]\n",
            " [1 1 1]\n",
            " [1 1 1]\n",
            " [1 1 1]\n",
            " [1 1 1]]\n",
            "\n",
            "\n",
            "Array b:\n",
            " [[1 1 1]\n",
            " [1 1 1]\n",
            " [1 0 1]\n",
            " [1 1 1]\n",
            " [1 1 1]]\n"
          ]
        }
      ],
      "source": [
        "# Para não modificar o array inicial, foi utilizada a função numpy.copy => 'Return an array copy of the given object'\n",
        "b = np.copy(a)\n",
        "b[2,1]=0\n",
        "print(\"Array a:\\n\",a)\n",
        "print('\\n')\n",
        "print(\"Array b:\\n\",b)"
      ]
    },
    {
      "cell_type": "markdown",
      "metadata": {
        "id": "e_lO8LLNXFkt"
      },
      "source": [
        "**c)** Altere o valor de todos os elementos da 2ª coluna do array **b** para 2. Utilize para isso o fatiamento (slicing) e um array auxiliar **c**.  Comente a metodologia empregada e printe os arrays **b** e **c**;"
      ]
    },
    {
      "cell_type": "code",
      "execution_count": 23,
      "metadata": {
        "id": "a3e-ElKkXc-p",
        "colab": {
          "base_uri": "https://localhost:8080/"
        },
        "outputId": "387a40c3-d21d-4a61-91bc-7f83c3c4ebc3"
      },
      "outputs": [
        {
          "output_type": "stream",
          "name": "stdout",
          "text": [
            "Array c:\n",
            " [1 1 0 1 1]\n",
            "\n",
            "\n",
            "Array b:\n",
            " [[1 2 1]\n",
            " [1 2 1]\n",
            " [1 2 1]\n",
            " [1 2 1]\n",
            " [1 2 1]]\n"
          ]
        }
      ],
      "source": [
        "# Foi feita uma cópia da 2a coluna de b para criação do array c para verificar que estava alterando a coluna certa e após foram alterados os elemntos da 2a coluna em b para '2'\n",
        "\n",
        "c=np.copy(b[:,1])\n",
        "b[:,1]=2\n",
        "print(\"Array c:\\n\",c)\n",
        "print('\\n')\n",
        "print(\"Array b:\\n\",b)"
      ]
    },
    {
      "cell_type": "markdown",
      "metadata": {
        "id": "B7A683XvZ-Dc"
      },
      "source": [
        "### Exercício 2.2\n",
        "\n"
      ]
    },
    {
      "cell_type": "markdown",
      "metadata": {
        "id": "0suXWMvmaDiq"
      },
      "source": [
        "**a)** Crie um array do numpy, **d**, formado por 21 elementos sequenciais, com valor inicial 0, valor final 100 e passo 5. Printe o array criado e comente a metodologia utilizada;"
      ]
    },
    {
      "cell_type": "code",
      "execution_count": 24,
      "metadata": {
        "id": "QI2HC8SUbRAm",
        "colab": {
          "base_uri": "https://localhost:8080/"
        },
        "outputId": "08c9b09d-c44e-4325-a418-88a5d141dfb6"
      },
      "outputs": [
        {
          "output_type": "stream",
          "name": "stdout",
          "text": [
            "Array d:\n",
            " [  0   5  10  15  20  25  30  35  40  45  50  55  60  65  70  75  80  85\n",
            "  90  95 100]\n"
          ]
        }
      ],
      "source": [
        "# As funções arange e linspace geram um vetor sequencial\n",
        "d=np.arange(0,101,5)\n",
        "print(\"Array d:\\n\",d)"
      ]
    },
    {
      "cell_type": "markdown",
      "metadata": {
        "id": "s59pBLm8bszk"
      },
      "source": [
        "**b)** Altere o array **d** para que este possua 7 linhas e 3 colunas. Printe o array resultante e comente a metodologia utilizada;"
      ]
    },
    {
      "cell_type": "code",
      "execution_count": 25,
      "metadata": {
        "id": "KV4aP8eAbr4_",
        "colab": {
          "base_uri": "https://localhost:8080/"
        },
        "outputId": "70639385-20c5-487a-c6af-a218fd4e9e5c"
      },
      "outputs": [
        {
          "output_type": "stream",
          "name": "stdout",
          "text": [
            "Array d:\n",
            " [[  0   5  10]\n",
            " [ 15  20  25]\n",
            " [ 30  35  40]\n",
            " [ 45  50  55]\n",
            " [ 60  65  70]\n",
            " [ 75  80  85]\n",
            " [ 90  95 100]]\n"
          ]
        }
      ],
      "source": [
        "# numpy.reshape gives a new shape to an array without changing its data.\n",
        "\n",
        "d=d.reshape(7,3)\n",
        "print(\"Array d:\\n\",d)"
      ]
    },
    {
      "cell_type": "markdown",
      "metadata": {
        "id": "1uaiRjh5eUxZ"
      },
      "source": [
        "**c)** Utilizando fatiamento, efetue a inversão dos elementos do array **d** (primeiro elemento [0,0] vira o último [6,2], segundo elemento [0,1] vira o penúltimo [6,1], ...) sem alterar o shape original do array. Printe o array resultante e comente a metodologia utilizada;"
      ]
    },
    {
      "cell_type": "code",
      "execution_count": 28,
      "metadata": {
        "id": "m3Jo40jvekOk",
        "colab": {
          "base_uri": "https://localhost:8080/"
        },
        "outputId": "1fc80f5c-515e-496a-e833-1feea2bd6587"
      },
      "outputs": [
        {
          "output_type": "stream",
          "name": "stdout",
          "text": [
            "Array d invertido:\n",
            " [[100  95  90]\n",
            " [ 85  80  75]\n",
            " [ 70  65  60]\n",
            " [ 55  50  45]\n",
            " [ 40  35  30]\n",
            " [ 25  20  15]\n",
            " [ 10   5   0]]\n"
          ]
        }
      ],
      "source": [
        "# Foi utilizado o fatiamento com índices invertidos nas linhas e nas colunas, utilizando todos os elementos\n",
        "\n",
        "d_invert=d[::-1,::-1]\n",
        "print(\"Array d invertido:\\n\",d_invert)"
      ]
    },
    {
      "cell_type": "markdown",
      "metadata": {
        "id": "GMRsUlg-iKxm"
      },
      "source": [
        "**d)** Utilizando fatiamento no array resultante no item anterior, printe apenas os elementos da 4ª à 5ª linhas e da 2ª à 3ª colunas.  Comente a metodologia utilizada."
      ]
    },
    {
      "cell_type": "code",
      "execution_count": 29,
      "metadata": {
        "id": "GLxbKKcaiJlB",
        "colab": {
          "base_uri": "https://localhost:8080/"
        },
        "outputId": "a1634ea9-8aa9-43b2-97be-a627a6cbda65"
      },
      "outputs": [
        {
          "output_type": "stream",
          "name": "stdout",
          "text": [
            "elementos da 4ª à 5ª linhas e da 2ª à 3ª colunas:\n",
            " [[50 45]\n",
            " [35 30]]\n"
          ]
        }
      ],
      "source": [
        "# Foi utilizado o fatiamento nas linhas e nas colunas para mostrar só os elementos solicitados\n",
        "\n",
        "print(\"elementos da 4ª à 5ª linhas e da 2ª à 3ª colunas:\\n\",d_invert[3:5,1:3])"
      ]
    },
    {
      "cell_type": "markdown",
      "metadata": {
        "id": "ywjuPloAtsiO"
      },
      "source": [
        "**e)** Altere o array **d** para que ele volte a possuir apenas uma dimensão. Printe o array resultante e comente a metodologia utilizada."
      ]
    },
    {
      "cell_type": "code",
      "execution_count": 32,
      "metadata": {
        "id": "OU9A0yi2tsiO",
        "colab": {
          "base_uri": "https://localhost:8080/"
        },
        "outputId": "9e0e8742-79fe-43c7-9461-ee49b4a2eb00"
      },
      "outputs": [
        {
          "output_type": "stream",
          "name": "stdout",
          "text": [
            "Array d invertido com uma dimensão:\n",
            " [100  95  90  85  80  75  70  65  60  55  50  45  40  35  30  25  20  15\n",
            "  10   5   0]\n"
          ]
        }
      ],
      "source": [
        "# Foi utilizado o numpy.reshape com o formato para apenas uma linha com o número de elementos total\n",
        "\n",
        "d_1d=d_invert.reshape(21,)\n",
        "print(\"Array d invertido com uma dimensão:\\n\",d_1d)"
      ]
    },
    {
      "cell_type": "markdown",
      "metadata": {
        "id": "WNAmIzl8lJnB"
      },
      "source": [
        "### Exercício 2.3"
      ]
    },
    {
      "cell_type": "markdown",
      "metadata": {
        "id": "fvQjE07olNT3"
      },
      "source": [
        "**a)** Crie um array do numpy, **e**, formado por 35 elementos sequenciais, com:\n",
        "\n",
        "- valor inicial 0;\n",
        "- valor final 34;\n",
        "- passo 1;\n",
        "- shape (5,7).\n",
        "\n",
        "Printe o array criado, seu shape e comente a metodologia utilizada;"
      ]
    },
    {
      "cell_type": "code",
      "execution_count": 49,
      "metadata": {
        "id": "ULw_XlJrlccS",
        "colab": {
          "base_uri": "https://localhost:8080/"
        },
        "outputId": "89cc0968-39c9-4f6e-9611-389b96f70aec"
      },
      "outputs": [
        {
          "output_type": "stream",
          "name": "stdout",
          "text": [
            "Array e:\n",
            " [[ 0  1  2  3  4  5  6]\n",
            " [ 7  8  9 10 11 12 13]\n",
            " [14 15 16 17 18 19 20]\n",
            " [21 22 23 24 25 26 27]\n",
            " [28 29 30 31 32 33 34]]\n",
            "\n",
            "\n",
            "Shape:\n",
            " (5, 7)\n"
          ]
        }
      ],
      "source": [
        "# Foram concatenadas as funções np.arange e np.reshape para criação do array solicitado\n",
        "\n",
        "e = np.arange(0,35,1).reshape(5,7)\n",
        "print ('Array e:\\n', e)\n",
        "print('\\n')\n",
        "print ('Shape:\\n', e.shape)"
      ]
    },
    {
      "cell_type": "markdown",
      "metadata": {
        "id": "3_dNSbW0lpJ8"
      },
      "source": [
        "**b)** Utilize um array booleano e indexação para printar apenas os elementos do array **e** que são maiores que 20. Comente a metodologia utilizada."
      ]
    },
    {
      "cell_type": "code",
      "execution_count": 52,
      "metadata": {
        "id": "AF-u7y9tmyaS",
        "colab": {
          "base_uri": "https://localhost:8080/"
        },
        "outputId": "ccf64546-8734-49e5-da6e-41c24470ba35"
      },
      "outputs": [
        {
          "output_type": "stream",
          "name": "stdout",
          "text": [
            "Elementos do array e que são maiores que 20:\n",
            " [21 22 23 24 25 26 27 28 29 30 31 32 33 34]\n"
          ]
        }
      ],
      "source": [
        "# Seu código aqui\n",
        "print('Elementos do array e que são maiores que 20:\\n',e[e>20] )"
      ]
    },
    {
      "cell_type": "markdown",
      "metadata": {
        "id": "ecPXEkB5oP9h"
      },
      "source": [
        "**c)** Utilize um array booleano e indexação para printar apenas as colunas do array **e** cuja soma dos elementos resulte em um valor par. Comente a metodologia utilizada."
      ]
    },
    {
      "cell_type": "code",
      "execution_count": 112,
      "metadata": {
        "id": "aKWnIetUoPP-",
        "colab": {
          "base_uri": "https://localhost:8080/"
        },
        "outputId": "5aa6d480-f58d-4492-f32e-f8f15572e218"
      },
      "outputs": [
        {
          "output_type": "stream",
          "name": "stdout",
          "text": [
            "Soma das colunas:\n",
            " [ 70  75  80  85  90  95 100]\n",
            "\n",
            "Colunas com soma par:\n",
            " [ True False  True False  True False  True]\n",
            "\n",
            "New array:\n",
            " [[ 0  2  4  6]\n",
            " [ 7  9 11 13]\n",
            " [14 16 18 20]\n",
            " [21 23 25 27]\n",
            " [28 30 32 34]]\n"
          ]
        }
      ],
      "source": [
        "# Somando os elementos das colunas e tirando o resto da divisão pra verificar se é par ou ímpar\n",
        "\n",
        "e_sum = np.sum(e, axis=0) #soma das colunas\n",
        "print('Soma das colunas:\\n', e_sum)\n",
        "\n",
        "e_sum_par = e_sum%2==0 #resto da divisão por 2 igual zero para saber se é par\n",
        "\n",
        "print('\\nColunas com soma par:\\n',e_sum_par)\n",
        "\n",
        "new_array=[]\n",
        "\n",
        "for i in range(len(e_res)):\n",
        "  aux=[]\n",
        "  for j in range(len(e_res[0])):\n",
        "    if e_sum_par[j]: aux.append(e_res[i,j])\n",
        "  new_array.append(aux)\n",
        "\n",
        "print('\\nNew array:\\n', np.array(new_array))"
      ]
    },
    {
      "cell_type": "markdown",
      "metadata": {
        "id": "GxpElKJsxgNF"
      },
      "source": [
        "### Exercício 2.4\n",
        "\n"
      ]
    },
    {
      "cell_type": "markdown",
      "metadata": {
        "id": "DwWkABHIxiIX"
      },
      "source": [
        "Crie uma função que tenha como entradas:\n",
        "- Inteiro **m** que corresponde às linhas de uma matriz;\n",
        "- Inteiro **n** que corresponde às colunas de uma matriz;\n",
        "\n",
        "e que retorne:\n",
        "- Uma matriz **X** de shape (m, n), em que cada elemento X[i,j] seja a distância Euclidiana entre a posição [i,j] e a posição [0,0].\n",
        "\n",
        "Dica: criar novas matrizes com as funções [*np.meshgrid*](https://github.com/lrittner/Computacao-Visual/blob/master/tutoriais/02_tutorial_numpy_1_6.ipynb) e [*np.arrange*](https://github.com/lrittner/Computacao-Visual/blob/master/tutoriais/02_tutorial_numpy_1_1.ipynb) para realizar as operações e obter os valores que comporão a matriz X.\n",
        "\n",
        "Teste a função com os valores **m=5** e **n=4**."
      ]
    },
    {
      "cell_type": "code",
      "execution_count": 127,
      "metadata": {
        "id": "qX8f43wIy9iq",
        "colab": {
          "base_uri": "https://localhost:8080/"
        },
        "outputId": "40272403-e7f3-461a-97c9-5f921cabec14"
      },
      "outputs": [
        {
          "output_type": "stream",
          "name": "stdout",
          "text": [
            "matriz X:\n",
            " [[0.    1.    2.    3.   ]\n",
            " [1.    1.414 2.236 3.162]\n",
            " [2.    2.236 2.828 3.606]\n",
            " [3.    3.162 3.606 4.243]\n",
            " [4.    4.123 4.472 5.   ]]\n"
          ]
        }
      ],
      "source": [
        "# A Distância Euclidiana é definida como a soma da raiz quadrada da diferença entre x e y em suas respectivas dimensões.\n",
        "\n",
        "def mat_distancia(m,n):\n",
        "  rows = np.arange(m)\n",
        "  cols = np.arange(n)\n",
        "  r, c = np.meshgrid(rows, cols, indexing='ij')\n",
        "  # print('r = \\n', r)\n",
        "  # print('c = \\n', c)\n",
        "\n",
        "  mat_X = np.sqrt(r**2+c**2)\n",
        "  return (mat_X)\n",
        "\n",
        "X = mat_distancia(5,4)\n",
        "\n",
        "np.set_printoptions(suppress=True, precision=3)\n",
        "print('matriz X:\\n', X)\n"
      ]
    },
    {
      "cell_type": "markdown",
      "metadata": {
        "id": "KB8fyJwRUi4y"
      },
      "source": [
        "## Parte 3 - Imagens sinteticas"
      ]
    },
    {
      "cell_type": "markdown",
      "metadata": {
        "id": "c_NCzACp1qkY"
      },
      "source": [
        "Veja um exemplo de criação de uma imagem sintética com Numpy e como visualizá-la com o matplotlib.pyplot:\n"
      ]
    },
    {
      "cell_type": "code",
      "execution_count": null,
      "metadata": {
        "colab": {
          "base_uri": "https://localhost:8080/",
          "height": 313
        },
        "id": "Ng_kDFFR1qEA",
        "outputId": "a9294ade-e6eb-4f91-a53f-4e813b82249e"
      },
      "outputs": [
        {
          "output_type": "execute_result",
          "data": {
            "text/plain": [
              "<matplotlib.image.AxesImage at 0x7c35bc7a9ae0>"
            ]
          },
          "metadata": {},
          "execution_count": 17
        },
        {
          "output_type": "display_data",
          "data": {
            "text/plain": [
              "<Figure size 300x300 with 1 Axes>"
            ],
            "image/png": "[encoded data removed]"
          },
          "metadata": {}
        }
      ],
      "source": [
        "# Criação de um quadrado cinza com dimensões 100 x 100\n",
        "array = np.zeros([100, 100], dtype=np.uint8)\n",
        "array[:,:] = [100]\n",
        "plt.figure(figsize = (3,3))\n",
        "plt.imshow(array,vmin=0, vmax=255, cmap='gray')"
      ]
    },
    {
      "cell_type": "markdown",
      "metadata": {
        "id": "G74vgkCq2Fww"
      },
      "source": [
        "### Exercício 3.1"
      ]
    },
    {
      "cell_type": "markdown",
      "metadata": {
        "id": "UtFMNrlk59IU"
      },
      "source": [
        "**a)** Crie um retângulo de tamanho 100 x 200 que seja formado por dois quadrados, um cinza claro e um cinza escuro. Plote o resultado obtido e comente a metodologia utilizada."
      ]
    },
    {
      "cell_type": "code",
      "execution_count": null,
      "metadata": {
        "id": "DXLxgPHp580i"
      },
      "outputs": [],
      "source": [
        "# Seu código aqui"
      ]
    },
    {
      "cell_type": "markdown",
      "metadata": {
        "id": "w8M4gfD12gpi"
      },
      "source": [
        "**b)** Utilizando a imagem anterior (retângulo criado), efetue a inserção de um quadrado cinza claro no meio do quadrado cinza escuro e de um quadrado cinza escuro no meio do quadrado cinza claro. Plote o resultado obtido e comente a metodologia utilizada."
      ]
    },
    {
      "cell_type": "code",
      "execution_count": null,
      "metadata": {
        "id": "W47Rdz6k20Rk"
      },
      "outputs": [],
      "source": [
        "# Seu código aqui"
      ]
    },
    {
      "cell_type": "markdown",
      "metadata": {
        "id": "46syqzIg59gz"
      },
      "source": [
        "### Exercício 3.2"
      ]
    },
    {
      "cell_type": "markdown",
      "metadata": {
        "collapsed": true,
        "id": "4CFqWZAaUi4z"
      },
      "source": [
        "Baseando-se no tutorial sobre as funções [indices e meshgrid](https://github.com/lrittner/Computacao-Visual/blob/master/tutoriais/02_tutorial_numpy_1_6.ipynb), crie as seguintes imagens sintéticas, plotando o resultado e comentando os métodos utilizados.\n",
        "\n",
        "**a)** Tabuleiro de xadrez;\n"
      ]
    },
    {
      "cell_type": "code",
      "execution_count": null,
      "metadata": {
        "id": "g_INUD2FUi4z"
      },
      "outputs": [],
      "source": [
        "# Seu código aqui"
      ]
    },
    {
      "cell_type": "markdown",
      "metadata": {
        "id": "R9YXSfIn69BT"
      },
      "source": [
        "**b)** Função parabólica dada pela soma do quadrado de suas coordenadas;"
      ]
    },
    {
      "cell_type": "code",
      "execution_count": null,
      "metadata": {
        "id": "LLIaMUvq7AFv"
      },
      "outputs": [],
      "source": [
        "# Seu código aqui"
      ]
    },
    {
      "cell_type": "markdown",
      "metadata": {
        "id": "T3sM-6Vm6sBD"
      },
      "source": [
        "**c)** Círculo de raio 40, com centro em (0,0);"
      ]
    },
    {
      "cell_type": "code",
      "execution_count": null,
      "metadata": {
        "id": "gU3PvfW76WPF"
      },
      "outputs": [],
      "source": [
        "# Seu código aqui"
      ]
    },
    {
      "cell_type": "markdown",
      "metadata": {
        "id": "yJDCwVDbnggD"
      },
      "source": [
        "## Parte 4 - Manipulando imagens com PIL e Numpy"
      ]
    },
    {
      "cell_type": "markdown",
      "metadata": {
        "id": "_vFdIne5nnea"
      },
      "source": [
        "É possível carregar imagens utilizando **PIL.Image** e convertê-las para um array do Numpy. Para mais informações sobre manipulação e visualização de imagens com PIL, Numpy e Matplotlib, leia o tutorial disponível em [\"Lendo e Visualizando Imagens\"](https://github.com/lrittner/Computacao-Visual/blob/master/tutoriais/03_Lendo_e_Visualizando_Imagens.ipynb).\n",
        "\n",
        "Adicione a pasta compartilhada do drive (indicada na descrição do exercício no classroom) como atalho ao seu Google Drive para que seja capaz de abrir a imagem abaixo (clicar sobre o nome da pasta, ir em \"Organizar\" e \"Adicionar atalho\"; na janela que aparecer, selecione \"Todos os locais\", \"Meu Drive\" e clique em \"Adicionar\").\n",
        "\n",
        "Obs.: se encontrar dificuldades na utilização do Google Colaboratory, verifique a parte final deste NB \"Dicas: Utilizando o Colab\"."
      ]
    },
    {
      "cell_type": "code",
      "execution_count": null,
      "metadata": {
        "id": "vjeJFtr4n72E"
      },
      "outputs": [],
      "source": [
        "# Definindo o nome da pasta compartilhada\n",
        "# IMPORTANTE: substitua \"NOME_DA_PASTA_COMPARTILHADA\" abaixo pelo nome correspondente\n",
        "pasta = \"NOME_DA_PASTA_COMPARTILHADA\"\n",
        "path = f\"gdrive/MyDrive/P_IA905A_2024S1/Dados/Ex01/arco-iris-duplo.jpg\"\n",
        "\n",
        "img = Image.open(path)"
      ]
    },
    {
      "cell_type": "markdown",
      "metadata": {
        "id": "9xYtSKP-oAFi"
      },
      "source": [
        "### Exercício 4.1"
      ]
    },
    {
      "cell_type": "markdown",
      "metadata": {
        "id": "gSNa5nd8oEXA"
      },
      "source": [
        "Converta a imagem **img** para um array do numpy, printe o número de dimensões da imagem, seu shape e seu dtype. Comente os métodos utilizados."
      ]
    },
    {
      "cell_type": "code",
      "execution_count": null,
      "metadata": {
        "id": "9AaLCnDAoLTZ"
      },
      "outputs": [],
      "source": [
        "# Seu código aqui"
      ]
    },
    {
      "cell_type": "markdown",
      "metadata": {
        "id": "Lbt0s6jXoV3t"
      },
      "source": [
        "### Exercício 4.2"
      ]
    },
    {
      "cell_type": "markdown",
      "metadata": {
        "id": "5A48Eku_oa4C"
      },
      "source": [
        "Visualize a imagem anterior com um tamanho 2 x 2. Comente o seu código utilizando a documentação oficial."
      ]
    },
    {
      "cell_type": "code",
      "execution_count": null,
      "metadata": {
        "id": "A9CO2EIRogfr"
      },
      "outputs": [],
      "source": [
        "# Seu código aqui"
      ]
    },
    {
      "cell_type": "markdown",
      "metadata": {
        "id": "2qdeBsmTpPxu"
      },
      "source": [
        "### Exercício 4.3"
      ]
    },
    {
      "cell_type": "markdown",
      "metadata": {
        "id": "QARxjMKmouK7"
      },
      "source": [
        "Selecione e visualize apenas uma região da imagem, usando o slicing do Numpy. Comente os métodos utilizados."
      ]
    },
    {
      "cell_type": "code",
      "execution_count": null,
      "metadata": {
        "id": "IvKlJR19pZWP"
      },
      "outputs": [],
      "source": [
        "# Seu código aqui"
      ]
    },
    {
      "cell_type": "markdown",
      "metadata": {
        "id": "D6fksLE0tsiX"
      },
      "source": [
        "## Parte 5 - Geração automática de imagens sintéticas e manipulação de arquivos (opicional para EA979)"
      ]
    },
    {
      "cell_type": "markdown",
      "metadata": {
        "id": "iuS2spSCtsiX"
      },
      "source": [
        "### Exercício 5.1"
      ]
    },
    {
      "cell_type": "markdown",
      "metadata": {
        "id": "_OTRsrvdtsiX"
      },
      "source": [
        "**a)** Quando geramos imagens sintéticas, estamos interessados em criar um conjunto de imagens com algumas características pré-definidas, mas com certa variabilidade. Para exemplificar esse processo, vamos automatizar a criação dos quadrados do exercício 3.1.\n",
        "\n",
        "Crie uma função que tenha como entradas:\n",
        "- Inteiro **n** que corresponde ao número de imagens a serem criadas;\n",
        "- Inteiro **h** que corresponde à \"altura\" de cada imagem (com \"largura\" 2\\***h**);\n",
        "\n",
        "e que retorne:\n",
        "- Um array **I** de shape (n, h, 2\\*h, 3), em que cada **I**[n] corresponda a uma imagem similar à imagem gerada no exercício 3.1.b), mas colorida.\n",
        "\n",
        "A ideia é que a função crie um conjunto de **n** imagens, todas com os \"quadrados menores\" aproximadamente centralizados nos \"quadrados maiores\". O tamanho dos \"quadrados menores\" deve ser igual para todas as imagens do conjunto e definido de forma aleatória. As duas cores utilizadas devem variar para cada imagem e também são definidas aleatoriamente.\n",
        "\n",
        "Você deve definir certos limites para garantir que a geração das imagens faça sentido: qual a altura mínima das imagens? qual o tamanho mínimo dos quadrados menores? qual a distância mínima entre as bordas dos quadrados menor/maior (para que um não se sobreponha ao outro)?\n",
        "\n",
        "Teste a função com diferentes valores de entrada, tentando sempre plotar as imagens de cada conjunto gerado em um único plot. Comente sobre as decisões tomadas na criação da função (como os limites que foram definidos) e seu comportamento esperado (como a centralização dos quadrados menores em relação às dimensões da imagem)."
      ]
    },
    {
      "cell_type": "code",
      "execution_count": null,
      "metadata": {
        "id": "xVeVKs7UtsiY"
      },
      "outputs": [],
      "source": [
        "# Seu código aqui"
      ]
    },
    {
      "cell_type": "markdown",
      "metadata": {
        "id": "VA9Kys6ftsiY"
      },
      "source": [
        "**b)** Conjuntos de imagens podem ser armazenados em diferentes formatos e arquivos. Em especial, arquivos *.npz* são capazes de armazenar diversos arrays, organizados de modo semelhante a um dicionário. Como este tipo de arquivo será utilizado novamente em exercícios futuros, vamos treinar sua manipulação.\n",
        "\n",
        "Utilizando a função do item anterior, crie 4 conjuntos de imagens (**A**, **B**, **C** e **D**) com 10 imagens cada e diferentes valores de **h**. Utilize a função [savez](https://numpy.org/doc/stable/reference/generated/numpy.savez.html) para salvar os 4 arrays em um único arquivo *.npz*, mantendo os nomes dos arrays (**A**, **B**, **C** e **D**). Em seguida, abra o arquivo gerado, imprima os nomes dos arrays armazenados e plote uma imagem de cada conjunto (selecionada aleatoriamente) em um único plot. Comente os métodos utilizados.\n",
        "\n",
        "Obs.: se encontrar dificuldades na utilização do Google Colaboratory, verifique a parte final deste NB \"Dicas: Utilizando o Colab\"."
      ]
    },
    {
      "cell_type": "code",
      "execution_count": null,
      "metadata": {
        "id": "Relf2XRotsiY"
      },
      "outputs": [],
      "source": [
        "# Seu código aqui"
      ]
    },
    {
      "cell_type": "markdown",
      "metadata": {
        "id": "zmQO8JGOtsiY"
      },
      "source": [
        "## Parte 6 - Extraindo dados de uma imagem para detecção de objetos (opicional para EA979)"
      ]
    },
    {
      "cell_type": "markdown",
      "metadata": {
        "id": "2MN7rwCjtsiZ"
      },
      "source": [
        "### Exercício 6.1"
      ]
    },
    {
      "cell_type": "markdown",
      "metadata": {
        "id": "UZhrRaD8tsiZ"
      },
      "source": [
        "Existem diversas funções que calculam dados [matemáticos](https://numpy.org/doc/stable/reference/routines.math.html) e [estatísticos](https://numpy.org/doc/stable/reference/routines.statistics.html) de um array. Esses dados podem ser muito úteis para diversas aplicações em imagens, como na detecção das teclas de uma calculadora, exemplificada neste exercício.\n",
        "\n",
        "**a)** Carregue e plote a imagem \"keyb.tif\", que está no diretório **\"PASTA_COMPARTILHADA\"/Dados/Ex01**. Em seguida, extraia dados ao longo das linhas e colunas da imagem (como [mean](https://numpy.org/doc/stable/reference/generated/numpy.mean.html), [max](https://numpy.org/doc/stable/reference/generated/numpy.max.html) e [min](https://numpy.org/doc/stable/reference/generated/numpy.min.html)) e plote gráficos dos valores obtidos. Comente os métodos utilizados e os resultados obtidos."
      ]
    },
    {
      "cell_type": "code",
      "execution_count": null,
      "metadata": {
        "id": "0m98mN7DtsiZ"
      },
      "outputs": [],
      "source": [
        "# Seu código aqui"
      ]
    },
    {
      "cell_type": "markdown",
      "metadata": {
        "id": "PLI5t73FtsiZ"
      },
      "source": [
        "**b)** Utilize os dados extraídos no item anterior para localizar as teclas da calculadora. Plote linhas vermelhas horizontais e verticais sobre a imagem original, passando aproximadamente no meio das teclas. Comente os métodos utilizados."
      ]
    },
    {
      "cell_type": "code",
      "execution_count": null,
      "metadata": {
        "id": "LiWMC-QjtsiZ"
      },
      "outputs": [],
      "source": [
        "# Seu código aqui"
      ]
    },
    {
      "cell_type": "markdown",
      "metadata": {
        "id": "LbNTL4P0tsiZ"
      },
      "source": [
        "**c)** Agora, plote sobre a imagem original um *bounding box* ao redor de cada tecla localizada. Cada *bounding box* deve ser um retângulo vermelho definindo as bordas da tecla. Comente os métodos utilizados."
      ]
    },
    {
      "cell_type": "code",
      "execution_count": null,
      "metadata": {
        "id": "88NIpmNVtsia"
      },
      "outputs": [],
      "source": [
        "# Seu código aqui"
      ]
    },
    {
      "cell_type": "markdown",
      "metadata": {
        "collapsed": true,
        "id": "gU9455qnUi4x"
      },
      "source": [
        "# Dicas: Utilizando o Colab\n",
        "\n",
        "O Google Colaboratory (Colab) permite a execução de Jupyter Notebooks na nuvem, através de navegadores, sem a necessidade de instalação do Jupyter na máquina. Nesta disciplina, os tutoriais e exercícios serão realizados na forma de Jupyter Notebooks através do Colab."
      ]
    },
    {
      "cell_type": "markdown",
      "metadata": {
        "id": "LY4t5ltzZbE3"
      },
      "source": [
        "## Conectividade do Colab\n",
        "\n",
        "O Colab informa que pode ficar conectado por até 12 horas. Porém, esse período varia de acordo com a utilização do Notebook e a iteratividade do código. Em alguns casos, após muito tempo de execução, a conta do Colab pode ficar limitada para utilização. Nestes casos, aconselha-se compartilhar o Notebook através do botão \"Compartilhar\" no canto superior direito, e executá-lo com outra conta do Google."
      ]
    },
    {
      "cell_type": "markdown",
      "metadata": {
        "id": "60WI3Xl1Ui4x"
      },
      "source": [
        "## Inserindo novas células\n",
        "\n",
        "O Colab permite a inserção de células de código ou texto. As células de código podem executar comandos em Python ou shell bash (comandos para terminal Linux). As células de texto permitem a inserção de dados em texto, links, tópicos e imagens.\n",
        "\n",
        "Para inserir uma nova célula, posicione o mouse entre duas células e clique no tipo da célula desejada (Código ou Texto):\n",
        "\n",
        "![imagem_2023-02-02_112708896.png](data:image/png;base64,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)\n",
        "\n",
        "Também é possível inserir novas células de código com os comandos \"Ctrl+M B\".\n",
        "\n",
        "As células podem ter sua ordem de execução alterada se forem pressionadas e \"arrastadas\". Além disso, a mudança de ordem pode ser efetuada pelas setas na figura a seguir, ou com os comandos \"Ctrl+M K\" (mover para cima) ou \"Ctrl+M J\" (Mover para baixo).\n",
        "\n",
        "![image.png](data:image/png;base64,iVBORw0KGgoAAAANSUhEUgAAADwAAAAqCAYAAADvczj0AAAABHNCSVQICAgIfAhkiAAAABl0RVh0U29mdHdhcmUAZ25vbWUtc2NyZWVuc2hvdO8Dvz4AAAAtdEVYdENyZWF0aW9uIFRpbWUAVGh1IDAyIEZlYiAyMDIzIDA0OjAxOjA4IFBNIC0wMx+tw6kAAAJMSURBVGiB7ZpPjoIwFId/rWgCGyWSuIKtZ2LrIeQOXIQrsRWWmmhETeRfZzEpAsMgMqjQ8UsaEyHlfbxa+oqEMcbwj6DvDuDVfIRF5yMsOlLVlyJP3AXhvKio0pkwF2SMZa18TAQkoChZ1fIMXV4qZzZNU1BKIUkSCCFvDq97KHCTTZIEhBBhZYGScBzHkKTKiVsYaH4oR1EkbGY5ND+coyh6dzxPJ1tp8Sw/yuVygW3b8Dyv08CqcF0Xq9UKruu27iP7Dec/m8JlXdd9mfRfoXXP3DrKmX1lpv9CYdJqKszlttstTNMEAJimCcZY76UfznBe1rIs6LoOANB1HZZl9V6apmkK3u4Jl2UNwygcNwyjM2nP87Ber+/20fQ8zsMZlmW5UpbDpXVdh6ZpjYKoQtM0yLJce+M8z4Nt2zifz437pXEcI9/qUBSlVpbDpRVFaRzIb9eaz+eV0lyWMdYoJg4NwxBhGCKKot4tPMrSvu8DAHzfbyULAFRVVaiqitlshul0+qzYW5OXdhwHAOA4TitZYCB7WlyaPxHuzSN1ZMJ9Lxq49HK5bC0LACRJEsYLhyAIsFgsOg61X1Dglt2+Z7kLfgzpNhXTkCgIU0pxPB7fGc/ToYQQ8DYajbDf77Hb7e4uQoYKSdOU8R2P6/WKIAhwOByw2WxwOp0eqqKGgATchvN4PIaiKCCEYDKZII7jh+vkvkPYN1lNnCRJtq7mVVSeocsT/peH/DZPWXToknkyYeB/vEwrCHNElQV+eT8s8oprENVSl3yERecL+CX+lbRL4o4AAAAASUVORK5CYII=)"
      ]
    },
    {
      "cell_type": "markdown",
      "metadata": {
        "id": "4yfq2NMkhYij"
      },
      "source": [
        "## Executando células de código\n",
        "\n",
        "As células de código podem ser executadas clicando no ícone \"Play\", ao lado esquerdo da célula, ou através dos comandos \"Shift+Enter\" ou \"Ctrl+Enter\". Após a execução da célula, o índice de execução ficará entre os colchetes [ ].\n",
        "\n",
        "Também é possível:\n",
        "1.   Executar todas as células: Ambiente de Execução > Executar tudo (ou utilizando Ctrl+F9);\n",
        "2.   Executar todas as células após a célula em que está o cursor: Ambiente de Execução > Executar após (ou utilizando Ctrl+F10);\n",
        "3.   Executar todas as células antes da célula em que está o cursor: Ambiente de Execução > Executar antes (ou utilizando Ctrl+F8);\n",
        "\n",
        "No caso da execução correta, um ícone de ok estará ao lado esquerdo.\n",
        "\n",
        "No caso de erros, um ponto de exclamação aparecerá no lado esquerdo e o erro será detalhado abaixo da célula. A execução é interrompida com o erro."
      ]
    },
    {
      "cell_type": "code",
      "execution_count": null,
      "metadata": {
        "id": "msTNHMqThysV"
      },
      "outputs": [],
      "source": [
        "print(\"Exemplo de execução\")"
      ]
    },
    {
      "cell_type": "code",
      "execution_count": null,
      "metadata": {
        "id": "9sGn1tBZhzWi"
      },
      "outputs": [],
      "source": [
        "print(f\"Exemplo de erro de execução (variável não declarada): {m}\")"
      ]
    },
    {
      "cell_type": "markdown",
      "metadata": {
        "id": "-G11ytwzbMID"
      },
      "source": [
        "Para execução de comandos shell bash, utiliza-se o sinal \"!\" antes do código.\n",
        "\n",
        "Abaixo, seguem exemplos para:\n",
        "\n",
        "1.   Listar os arquivos do diretório atual\n",
        "2.   Printar o caminho do diretório atual\n",
        "3. Printar as configurações da GPU utilizada (é necessário estar com GPU habilitada: Ambiente de Execução > Alterar o tipo do ambiente de execução > Acelerador de Hardware)."
      ]
    },
    {
      "cell_type": "code",
      "execution_count": null,
      "metadata": {
        "id": "kv80kU7Xbvpl"
      },
      "outputs": [],
      "source": [
        "!ls"
      ]
    },
    {
      "cell_type": "code",
      "execution_count": null,
      "metadata": {
        "id": "-Z0__P2nbwn9"
      },
      "outputs": [],
      "source": [
        "!pwd"
      ]
    },
    {
      "cell_type": "code",
      "execution_count": null,
      "metadata": {
        "id": "zpf0BnBsb3Dz"
      },
      "outputs": [],
      "source": [
        "!nvidia-smi\n"
      ]
    },
    {
      "cell_type": "markdown",
      "metadata": {
        "id": "xcEtElqnatCq"
      },
      "source": [
        "## Utilizando Colab com o Google Drive\n",
        "\n",
        "O Colab permite o vínculo de uma conta no Google Drive para carregar ou salvar arquivos. É necessário importar o pacote drive do colab e montá-lo, como segue. Na primeira execução após a conexão do notebook, será necessário realizar a autenticação na conta e permitir a conexão do colab com o drive.\n",
        "\n",
        "Por padrão, os notebooks gerados pelo colab são salvos na pasta 'Colab Notebooks', no Drive. Porém, é possível alterar o local onde o notebook será salvo.\n",
        "\n",
        "É possível verificar os arquivos na pasta de trabalho utilizando o comando shell bash \"ls\". Também é possível alterar a pasta de trabalho atual com o comando \"cd\". Exercite a execução destes comandos utilizando seu Google Drive."
      ]
    },
    {
      "cell_type": "code",
      "execution_count": null,
      "metadata": {
        "id": "VVMjB3wshY5L"
      },
      "outputs": [],
      "source": [
        "from google.colab import drive\n",
        "drive.mount('/content/gdrive')"
      ]
    },
    {
      "cell_type": "markdown",
      "metadata": {
        "id": "7LPGJJI9gxlo"
      },
      "source": [
        "## Utilizando arquivos compartilhados\n",
        "\n",
        "O Colab permite apenas que sejam utilizados arquivos do Drive da própria conta, ou de drives compartilhados. Para se utilizar arquivos ou pastas compartilhados, pode-se adicionar um atalho à própria conta do Drive.\n",
        "\n",
        "Adicione um atalho ao seu Google Drive da pasta compartilhada (indicada na descrição do exercício no classroom). Liste os arquivos que estão contidos na pasta \"Dados/Ex01\" utilizando a função **os.listdir**."
      ]
    },
    {
      "cell_type": "code",
      "execution_count": null,
      "metadata": {
        "id": "GQ2B8nKpMY8c"
      },
      "outputs": [],
      "source": [
        "import os\n",
        "#IMPORTANTE: substitua \"NOME_DA_PASTA_COMPARTILHADA\" abaixo pelo nome correspondente\n",
        "list_files = os.listdir(\"gdrive/MyDrive/NOME_DA_PASTA_COMPARTILHADA/Dados/Ex01\")\n",
        "for file in list_files:\n",
        "  print(file)"
      ]
    },
    {
      "cell_type": "markdown",
      "metadata": {
        "id": "dcIlGzopQlAy"
      },
      "source": [
        "### Salvando arquivos no Drive"
      ]
    },
    {
      "cell_type": "markdown",
      "metadata": {
        "id": "oNEB9mfb46iw"
      },
      "source": [
        "Um arquivo, como uma imagem PIL.Image, pode ser salvo com o método save. No entanto, o path deve existir.\n",
        "\n",
        "OBS: um path pode ser criado via shell bash com **!mkdir -p path**.\n",
        "O -p promove a criação de subdiretórios que ainda não existem."
      ]
    },
    {
      "cell_type": "code",
      "execution_count": null,
      "metadata": {
        "id": "8OsdT6jFtsie"
      },
      "outputs": [],
      "source": [
        "from PIL import Image\n",
        "import numpy as np\n",
        "!mkdir -p gdrive/MyDrive/'Colab Notebooks'/'Processamento de Imagens'/Ex01\n",
        "#IMPORTANTE: substitua \"NOME_DA_PASTA_COMPARTILHADA\" abaixo pelo nome correspondente\n",
        "path_img = \"gdrive/MyDrive/NOME_DA_PASTA_COMPARTILHADA/Dados/Ex01/arco-iris-duplo.jpg\"\n",
        "path_save = \"gdrive/MyDrive/Colab Notebooks/Processamento de Imagens/Ex01/Ex1_arco_iris.png\"\n",
        "pil_img = Image.fromarray(np.array(Image.open(path_img)))\n",
        "pil_img.save(path_save)"
      ]
    },
    {
      "cell_type": "markdown",
      "metadata": {
        "id": "mmVLAS3A8XZu"
      },
      "source": [
        "## Snipets de código\n",
        "\n",
        "O Colab fornece vários códigos prontos em Ajuda > Pesquisar snipets de código. Os snipets também são acessíveis através dos comandos Ctrl+Alt+P.\n"
      ]
    }
  ],
  "metadata": {
    "colab": {
      "provenance": [],
      "collapsed_sections": [
        "o-W-I1kiT-8G",
        "k_cZ4ps0Z3rT",
        "B7A683XvZ-Dc",
        "WNAmIzl8lJnB",
        "GxpElKJsxgNF",
        "D6fksLE0tsiX",
        "zmQO8JGOtsiY",
        "gU9455qnUi4x"
      ],
      "include_colab_link": true
    },
    "kernelspec": {
      "display_name": "Python 3",
      "language": "python",
      "name": "python3"
    },
    "language_info": {
      "codemirror_mode": {
        "name": "ipython",
        "version": 3
      },
      "file_extension": ".py",
      "mimetype": "text/x-python",
      "name": "python",
      "nbconvert_exporter": "python",
      "pygments_lexer": "ipython3",
      "version": "3.11.6"
    }
  },
  "nbformat": 4,
  "nbformat_minor": 0
}